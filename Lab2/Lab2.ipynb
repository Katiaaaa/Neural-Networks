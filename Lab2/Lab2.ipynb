{
  "nbformat": 4,
  "nbformat_minor": 0,
  "metadata": {
    "colab": {
      "name": "Lab2.ipynb",
      "provenance": [],
      "collapsed_sections": [
        "RJ9u407A_VY6",
        "ZjU9-Ojs_idC",
        "ypgbFcIO_92T",
        "Ytka3wqYAM1O"
      ],
      "include_colab_link": true
    },
    "kernelspec": {
      "name": "python3",
      "display_name": "Python 3"
    },
    "language_info": {
      "name": "python"
    }
  },
  "cells": [
    {
      "cell_type": "markdown",
      "metadata": {
        "id": "view-in-github",
        "colab_type": "text"
      },
      "source": [
        "<a href=\"https://colab.research.google.com/github/Katiaaaa/Neural-Networks/blob/main/Lab2/Lab2.ipynb\" target=\"_parent\"><img src=\"https://colab.research.google.com/assets/colab-badge.svg\" alt=\"Open In Colab\"/></a>"
      ]
    },
    {
      "cell_type": "markdown",
      "source": [
        "## Лабораторна робота №2\n",
        "\n",
        "### студентки групи КН-31 Валько Катерини"
      ],
      "metadata": {
        "id": "2xFaUM4CxsG8"
      }
    },
    {
      "cell_type": "markdown",
      "source": [
        "## TensorFlow\n",
        "За матеріалами ознайомитись із засадами бібліотеки TensorFlow:\n",
        "- засвоєння поняття тензору\n",
        "- знати різні способи створення тензорів\n",
        "- створити набір даних із заданим розподілом (розподіл та розмір за власним рішенням), визначити його властивості (shape, rank, size, axis)\n",
        "- продемонструвати основні математичні операції над тензорами\n",
        "- провести CRUD операції над даними, reshape, інтеграцію з np.array, pd.DataFrame)\n"
      ],
      "metadata": {
        "id": "ldJJ5Slby_sS"
      }
    },
    {
      "cell_type": "markdown",
      "source": [
        "### Поняття тензору, різні способи створення тензорів\n",
        "Тензори - це об'єкти, які описують лінійне відношення між векторами, скалярами та іншими тензорами. Тензори - багатовимірні масиви."
      ],
      "metadata": {
        "id": "RJ9u407A_VY6"
      }
    },
    {
      "cell_type": "code",
      "source": [
        "import tensorflow as tf\n",
        "import numpy as np\n",
        "import pandas as pd"
      ],
      "metadata": {
        "id": "AtAGzclR_LOv"
      },
      "execution_count": 1,
      "outputs": []
    },
    {
      "cell_type": "code",
      "source": [
        "tensor = tf.Variable([[3, 3, 13, 14],[2, 2, 12, 13]])\n",
        "print(tensor)\n",
        "\n",
        "print(tf.constant([[7, 1, 1],\n",
        "                   [8, 2, 10]]))\n",
        "\n",
        "print(tf.random.Generator.from_seed(123).normal(shape=(2,3)))\n"
      ],
      "metadata": {
        "colab": {
          "base_uri": "https://localhost:8080/"
        },
        "id": "KKie_PGb0ILv",
        "outputId": "3aafc27a-acc1-4764-fea9-ada377903415"
      },
      "execution_count": 10,
      "outputs": [
        {
          "output_type": "stream",
          "name": "stdout",
          "text": [
            "<tf.Variable 'Variable:0' shape=(2, 4) dtype=int32, numpy=\n",
            "array([[ 3,  3, 13, 14],\n",
            "       [ 2,  2, 12, 13]], dtype=int32)>\n",
            "tf.Tensor(\n",
            "[[ 7  1  1]\n",
            " [ 8  2 10]], shape=(2, 3), dtype=int32)\n",
            "tf.Tensor(\n",
            "[[ 0.8673864  -0.29899067 -0.9310337 ]\n",
            " [-1.5828488   1.2481191  -0.6770643 ]], shape=(2, 3), dtype=float32)\n"
          ]
        }
      ]
    },
    {
      "cell_type": "markdown",
      "source": [
        "### Cтворити набір даних із заданим розподілом, визначити його властивості (shape, rank, size, axis)"
      ],
      "metadata": {
        "id": "ZjU9-Ojs_idC"
      }
    },
    {
      "cell_type": "code",
      "source": [
        "tensor = tf.Variable([\n",
        "                   [1, 2, 3, 4, 5],\n",
        "                   [6, 7, 8, 9, 10]\n",
        "                   ])\n",
        "\n",
        "print(tensor.shape)\n",
        "print(tf.rank(tensor))\n",
        "print(tf.size(tensor))\n",
        "#розширення форми масиву. Нова вісь, яка з’явиться в позиції осі у формі розгорнутого масиву.\n",
        "print(tf.expand_dims(tensor, axis=0))\n",
        "\n"
      ],
      "metadata": {
        "colab": {
          "base_uri": "https://localhost:8080/"
        },
        "id": "_YRjuv8J_sFi",
        "outputId": "c5520e7d-2d79-439f-dd3f-993e2432b9a0"
      },
      "execution_count": 11,
      "outputs": [
        {
          "output_type": "stream",
          "name": "stdout",
          "text": [
            "(2, 5)\n",
            "tf.Tensor(2, shape=(), dtype=int32)\n",
            "tf.Tensor(10, shape=(), dtype=int32)\n",
            "tf.Tensor(\n",
            "[[[ 1  2  3  4  5]\n",
            "  [ 6  7  8  9 10]]], shape=(1, 2, 5), dtype=int32)\n"
          ]
        }
      ]
    },
    {
      "cell_type": "markdown",
      "source": [
        "### Продемонструвати основні математичні операції над тензорами"
      ],
      "metadata": {
        "id": "ypgbFcIO_92T"
      }
    },
    {
      "cell_type": "code",
      "source": [
        "tensor = tf.Variable([\n",
        "                   [3, 3, 13, 14],\n",
        "                   [2, 2, 1, 13],\n",
        "                   [5, 6, 12, 5],\n",
        "                   [4, 7, 0, 15]])\n",
        "\n",
        "print(tensor+10)\n",
        "print(tensor*10)\n",
        "print(tensor@tf.reshape(tensor, shape=(4, 4)))"
      ],
      "metadata": {
        "colab": {
          "base_uri": "https://localhost:8080/"
        },
        "id": "JYPeT0-OACiB",
        "outputId": "f9f4aa0b-659c-4e9f-d123-97d7a94e7285"
      },
      "execution_count": 29,
      "outputs": [
        {
          "output_type": "stream",
          "name": "stdout",
          "text": [
            "tf.Tensor(\n",
            "[[13 13 23 24]\n",
            " [12 12 11 23]\n",
            " [15 16 22 15]\n",
            " [14 17 10 25]], shape=(4, 4), dtype=int32)\n",
            "tf.Tensor(\n",
            "[[ 30  30 130 140]\n",
            " [ 20  20  10 130]\n",
            " [ 50  60 120  50]\n",
            " [ 40  70   0 150]], shape=(4, 4), dtype=int32)\n",
            "tf.Tensor(\n",
            "[[136 191 198 356]\n",
            " [ 67 107  40 254]\n",
            " [107 134 215 283]\n",
            " [ 86 131  59 372]], shape=(4, 4), dtype=int32)\n"
          ]
        }
      ]
    },
    {
      "cell_type": "markdown",
      "source": [
        "### Провести CRUD операції над даними (reshape, інтеграцію з np.array, pd.DataFrame)"
      ],
      "metadata": {
        "id": "Ytka3wqYAM1O"
      }
    },
    {
      "cell_type": "code",
      "source": [
        "tensor = tf.Variable([\n",
        "                   [3, 3, 13, 14],\n",
        "                   [2, 2, 1, 13],\n",
        "                   [5, 6, 12, 5],\n",
        "                   [4, 7, 0, 15]])\n",
        "\n",
        "# CRUD операції над даними, reshape, інтеграція з np.array, pd.DataFrame\n",
        "tf.compat.v1.assign(tensor[2], [4, 7, 0, 15])\n",
        "print(tf.slice(tensor, [1, 0], [1, 4]))\n",
        "print(tf.reshape(tensor, shape=(2, 8)))\n",
        "print(tf.Variable(np.array([[1, 4], [2, 9]])))\n",
        "print(tf.Variable(pd.DataFrame([[1, 4], [2, 9]])))"
      ],
      "metadata": {
        "colab": {
          "base_uri": "https://localhost:8080/"
        },
        "id": "C5Yc5dy6AQBw",
        "outputId": "e164a018-601b-4082-867d-b18437e3712e"
      },
      "execution_count": 31,
      "outputs": [
        {
          "output_type": "stream",
          "name": "stdout",
          "text": [
            "tf.Tensor([[ 2  2  1 13]], shape=(1, 4), dtype=int32)\n",
            "tf.Tensor(\n",
            "[[ 3  3 13 14  2  2  1 13]\n",
            " [ 4  7  0 15  4  7  0 15]], shape=(2, 8), dtype=int32)\n",
            "<tf.Variable 'Variable:0' shape=(2, 2) dtype=int64, numpy=\n",
            "array([[1, 4],\n",
            "       [2, 9]])>\n",
            "<tf.Variable 'Variable:0' shape=(2, 2) dtype=int64, numpy=\n",
            "array([[1, 4],\n",
            "       [2, 9]])>\n"
          ]
        }
      ]
    },
    {
      "cell_type": "markdown",
      "source": [
        "#Висновок\n",
        "На лабораторній роботі ми розглянули основи бібліотеки TensorFlow, \n",
        "засвоїли поняття тензору, описали різні способи створення тензорів, створили набір даних із заданим розподілом і визначили його властивості (shape, rank, size, axis), продемонстрували основні математичні операції над тензорами, провели CRUD операції над даними (reshape, інтеграцію з np.array, pd.DataFrame)\n",
        "навчились застосовувати отримані знання на практиці.\n",
        " "
      ],
      "metadata": {
        "id": "Uxz-DEe6yAMN"
      }
    }
  ]
}